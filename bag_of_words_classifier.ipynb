{
 "cells": [
  {
   "cell_type": "code",
   "execution_count": 1,
   "metadata": {
    "collapsed": true
   },
   "outputs": [],
   "source": [
    "from __future__ import unicode_literals\n",
    "from textblob import TextBlob\n",
    "import pandas as pd"
   ]
  },
  {
   "cell_type": "code",
   "execution_count": 2,
   "metadata": {
    "collapsed": false
   },
   "outputs": [
    {
     "data": {
      "text/html": [
       "<div>\n",
       "<table border=\"1\" class=\"dataframe\">\n",
       "  <thead>\n",
       "    <tr style=\"text-align: right;\">\n",
       "      <th></th>\n",
       "      <th>Unnamed: 0</th>\n",
       "      <th>country</th>\n",
       "      <th>description</th>\n",
       "      <th>designation</th>\n",
       "      <th>points</th>\n",
       "      <th>price</th>\n",
       "      <th>province</th>\n",
       "      <th>region_1</th>\n",
       "      <th>region_2</th>\n",
       "      <th>variety</th>\n",
       "      <th>winery</th>\n",
       "    </tr>\n",
       "  </thead>\n",
       "  <tbody>\n",
       "    <tr>\n",
       "      <th>0</th>\n",
       "      <td>0</td>\n",
       "      <td>US</td>\n",
       "      <td>This tremendous 100% varietal wine hails from ...</td>\n",
       "      <td>Martha's Vineyard</td>\n",
       "      <td>96</td>\n",
       "      <td>235.0</td>\n",
       "      <td>California</td>\n",
       "      <td>Napa Valley</td>\n",
       "      <td>Napa</td>\n",
       "      <td>Cabernet Sauvignon</td>\n",
       "      <td>Heitz</td>\n",
       "    </tr>\n",
       "    <tr>\n",
       "      <th>1</th>\n",
       "      <td>1</td>\n",
       "      <td>Spain</td>\n",
       "      <td>Ripe aromas of fig, blackberry and cassis are ...</td>\n",
       "      <td>Carodorum Selección Especial Reserva</td>\n",
       "      <td>96</td>\n",
       "      <td>110.0</td>\n",
       "      <td>Northern Spain</td>\n",
       "      <td>Toro</td>\n",
       "      <td>NaN</td>\n",
       "      <td>Tinta de Toro</td>\n",
       "      <td>Bodega Carmen Rodríguez</td>\n",
       "    </tr>\n",
       "    <tr>\n",
       "      <th>2</th>\n",
       "      <td>2</td>\n",
       "      <td>US</td>\n",
       "      <td>Mac Watson honors the memory of a wine once ma...</td>\n",
       "      <td>Special Selected Late Harvest</td>\n",
       "      <td>96</td>\n",
       "      <td>90.0</td>\n",
       "      <td>California</td>\n",
       "      <td>Knights Valley</td>\n",
       "      <td>Sonoma</td>\n",
       "      <td>Sauvignon Blanc</td>\n",
       "      <td>Macauley</td>\n",
       "    </tr>\n",
       "    <tr>\n",
       "      <th>3</th>\n",
       "      <td>3</td>\n",
       "      <td>US</td>\n",
       "      <td>This spent 20 months in 30% new French oak, an...</td>\n",
       "      <td>Reserve</td>\n",
       "      <td>96</td>\n",
       "      <td>65.0</td>\n",
       "      <td>Oregon</td>\n",
       "      <td>Willamette Valley</td>\n",
       "      <td>Willamette Valley</td>\n",
       "      <td>Pinot Noir</td>\n",
       "      <td>Ponzi</td>\n",
       "    </tr>\n",
       "    <tr>\n",
       "      <th>4</th>\n",
       "      <td>4</td>\n",
       "      <td>France</td>\n",
       "      <td>This is the top wine from La Bégude, named aft...</td>\n",
       "      <td>La Brûlade</td>\n",
       "      <td>95</td>\n",
       "      <td>66.0</td>\n",
       "      <td>Provence</td>\n",
       "      <td>Bandol</td>\n",
       "      <td>NaN</td>\n",
       "      <td>Provence red blend</td>\n",
       "      <td>Domaine de la Bégude</td>\n",
       "    </tr>\n",
       "  </tbody>\n",
       "</table>\n",
       "</div>"
      ],
      "text/plain": [
       "   Unnamed: 0 country                                        description  \\\n",
       "0           0      US  This tremendous 100% varietal wine hails from ...   \n",
       "1           1   Spain  Ripe aromas of fig, blackberry and cassis are ...   \n",
       "2           2      US  Mac Watson honors the memory of a wine once ma...   \n",
       "3           3      US  This spent 20 months in 30% new French oak, an...   \n",
       "4           4  France  This is the top wine from La Bégude, named aft...   \n",
       "\n",
       "                            designation  points  price        province  \\\n",
       "0                     Martha's Vineyard      96  235.0      California   \n",
       "1  Carodorum Selección Especial Reserva      96  110.0  Northern Spain   \n",
       "2         Special Selected Late Harvest      96   90.0      California   \n",
       "3                               Reserve      96   65.0          Oregon   \n",
       "4                            La Brûlade      95   66.0        Provence   \n",
       "\n",
       "            region_1           region_2             variety  \\\n",
       "0        Napa Valley               Napa  Cabernet Sauvignon   \n",
       "1               Toro                NaN       Tinta de Toro   \n",
       "2     Knights Valley             Sonoma     Sauvignon Blanc   \n",
       "3  Willamette Valley  Willamette Valley          Pinot Noir   \n",
       "4             Bandol                NaN  Provence red blend   \n",
       "\n",
       "                    winery  \n",
       "0                    Heitz  \n",
       "1  Bodega Carmen Rodríguez  \n",
       "2                 Macauley  \n",
       "3                    Ponzi  \n",
       "4     Domaine de la Bégude  "
      ]
     },
     "execution_count": 2,
     "metadata": {},
     "output_type": "execute_result"
    }
   ],
   "source": [
    "wine = pd.read_csv('/Users/luis/Desktop/master_codes/tfm/winemag-data_first150k.csv.zip',sep=\",\")\n",
    "wine.head()"
   ]
  },
  {
   "cell_type": "code",
   "execution_count": 3,
   "metadata": {
    "collapsed": false
   },
   "outputs": [
    {
     "data": {
      "text/plain": [
       "Index([u'Unnamed: 0', u'country', u'description', u'designation', u'points',\n",
       "       u'price', u'province', u'region_1', u'region_2', u'variety', u'winery'],\n",
       "      dtype='object')"
      ]
     },
     "execution_count": 3,
     "metadata": {},
     "output_type": "execute_result"
    }
   ],
   "source": [
    "wine.columns"
   ]
  },
  {
   "cell_type": "code",
   "execution_count": 4,
   "metadata": {
    "collapsed": true
   },
   "outputs": [],
   "source": [
    "wine = wine.drop('Unnamed: 0',1)"
   ]
  },
  {
   "cell_type": "code",
   "execution_count": 5,
   "metadata": {
    "collapsed": true
   },
   "outputs": [],
   "source": [
    "wine = wine.drop_duplicates()"
   ]
  },
  {
   "cell_type": "code",
   "execution_count": 6,
   "metadata": {
    "collapsed": false
   },
   "outputs": [
    {
     "data": {
      "text/plain": [
       "97851"
      ]
     },
     "execution_count": 6,
     "metadata": {},
     "output_type": "execute_result"
    }
   ],
   "source": [
    "len(wine)"
   ]
  },
  {
   "cell_type": "code",
   "execution_count": 7,
   "metadata": {
    "collapsed": true
   },
   "outputs": [],
   "source": [
    "# we will keep only varieties containing at least 10 descriptions\n",
    "num_reviews = wine.groupby('variety').description.count().to_frame().reset_index()\n",
    "num_reviews = num_reviews[num_reviews.description > 9]\n",
    "frequent_varieties = num_reviews.variety.tolist()\n",
    "wine_f = wine.loc[wine['variety'].isin(frequent_varieties)]"
   ]
  },
  {
   "cell_type": "code",
   "execution_count": 8,
   "metadata": {
    "collapsed": true
   },
   "outputs": [],
   "source": [
    "# first we must clean the text by removing punctuation symbols and setting all words \n",
    "# to lowercase letters\n",
    "import string \n",
    "\n",
    "def remove_punctuation(review):\n",
    "    pepe = review.translate(None, string.punctuation)\n",
    "    return pepe\n",
    "\n",
    "# removing punctuation from descriptions\n",
    "wine['description'] = wine['description'].apply(remove_punctuation)\n",
    "# converting to lowercase letters\n",
    "wine['description'] = wine['description'].str.lower()"
   ]
  },
  {
   "cell_type": "code",
   "execution_count": 10,
   "metadata": {
    "collapsed": true
   },
   "outputs": [],
   "source": [
    "#function that assigns a redness-score based on a list of descriptions, counting words typical of red wines\n",
    "def redness_score(descriptions):\n",
    "    red_freq = []\n",
    "    for review in descriptions:\n",
    "        review = TextBlob(review.decode('unicode-escape'))\n",
    "        n1 = review.words.count(\"cherry\")\n",
    "        n2 = review.words.count(\"berry\")\n",
    "        n3 = review.words.count(\"cherries\")\n",
    "        n4 = review.words.count(\"berries\")\n",
    "        n5 = review.words.count(\"red\")\n",
    "        n6 = review.words.count(\"raspberry\")\n",
    "        n7 = review.words.count(\"raspberries\")\n",
    "        n8 = review.words.count(\"blueberry\")\n",
    "        n9 = review.words.count(\"blueberries\")\n",
    "        n10 = review.words.count(\"blackberry\")\n",
    "        n11 = review.words.count(\"blackberries\")\n",
    "        total_red = n1+n2+n3+n4+n5+n6+n7+n8+n9+n10+n11\n",
    "        red_freq.append(total_red)\n",
    "    return float(sum(red_freq))/len(red_freq)"
   ]
  },
  {
   "cell_type": "code",
   "execution_count": 11,
   "metadata": {
    "collapsed": true
   },
   "outputs": [],
   "source": [
    "#same thing for white wines\n",
    "def whiteness_score(descriptions):\n",
    "    white_freq = []\n",
    "    for review in descriptions:\n",
    "        review = TextBlob(review.decode('unicode-escape'))\n",
    "        n1 = review.words.count(\"lemon\")\n",
    "        n2 = review.words.count(\"lemons\")\n",
    "        n3 = review.words.count(\"lime\")\n",
    "        n4 = review.words.count(\"limes\")\n",
    "        n5 = review.words.count(\"peach\")\n",
    "        n6 = review.words.count(\"peaches\")\n",
    "        n7 = review.words.count(\"white\")\n",
    "        n8 = review.words.count(\"apricot\")\n",
    "        n9 = review.words.count(\"pear\")\n",
    "        n10 = review.words.count(\"apple\")\n",
    "        n11 = review.words.count(\"nectarine\")\n",
    "        n12 = review.words.count(\"orange\")\n",
    "        n13 = review.words.count(\"pineapple\")\n",
    "        total_white = n1+n2+n3+n4+n5+n6+n7+n8+n9+n10+n11+n12+n13\n",
    "        white_freq.append(total_white)\n",
    "    return float(sum(white_freq))/len(white_freq)"
   ]
  },
  {
   "cell_type": "code",
   "execution_count": 12,
   "metadata": {
    "collapsed": true
   },
   "outputs": [],
   "source": [
    "red_types = []\n",
    "for variety in wine_f.variety.unique():\n",
    "    df_variety = wine_f[wine_f.variety == variety]\n",
    "    red = redness_score(df_variety.description)\n",
    "    red_types.append((variety,red)) # a redness score is asigned to each variety"
   ]
  },
  {
   "cell_type": "code",
   "execution_count": 13,
   "metadata": {
    "collapsed": true
   },
   "outputs": [],
   "source": [
    "# putting it in dataframe format\n",
    "color_classification =  pd.DataFrame.from_records(red_types,columns=[\"variety\",\"redness_score\"])"
   ]
  },
  {
   "cell_type": "code",
   "execution_count": 14,
   "metadata": {
    "collapsed": true
   },
   "outputs": [],
   "source": [
    "white_types = []\n",
    "for variety in wine_f.variety.unique():\n",
    "    df_variety = wine_f[wine_f.variety == variety]\n",
    "    white = whiteness_score(df_variety.description)\n",
    "    white_types.append((variety,white)) # a whiteness score is asigned to each variety"
   ]
  },
  {
   "cell_type": "code",
   "execution_count": 15,
   "metadata": {
    "collapsed": true
   },
   "outputs": [],
   "source": [
    "white = pd.DataFrame.from_records(white_types,columns=[\"variety\",\"whiteness_score\"])"
   ]
  },
  {
   "cell_type": "code",
   "execution_count": 16,
   "metadata": {
    "collapsed": true
   },
   "outputs": [],
   "source": [
    "# merging the two dataframes, we have a dataframe which, for each variety provides a redness and whiteness score\n",
    "color_classification = color_classification.merge(white,how='left',on='variety')"
   ]
  },
  {
   "cell_type": "code",
   "execution_count": 17,
   "metadata": {
    "collapsed": false
   },
   "outputs": [
    {
     "data": {
      "text/html": [
       "<div>\n",
       "<table border=\"1\" class=\"dataframe\">\n",
       "  <thead>\n",
       "    <tr style=\"text-align: right;\">\n",
       "      <th></th>\n",
       "      <th>variety</th>\n",
       "      <th>redness_score</th>\n",
       "      <th>whiteness_score</th>\n",
       "    </tr>\n",
       "  </thead>\n",
       "  <tbody>\n",
       "    <tr>\n",
       "      <th>119</th>\n",
       "      <td>Petit Manseng</td>\n",
       "      <td>0.035714</td>\n",
       "      <td>1.250000</td>\n",
       "    </tr>\n",
       "    <tr>\n",
       "      <th>108</th>\n",
       "      <td>Port</td>\n",
       "      <td>0.328147</td>\n",
       "      <td>0.089109</td>\n",
       "    </tr>\n",
       "    <tr>\n",
       "      <th>95</th>\n",
       "      <td>Shiraz</td>\n",
       "      <td>1.039075</td>\n",
       "      <td>0.030303</td>\n",
       "    </tr>\n",
       "    <tr>\n",
       "      <th>47</th>\n",
       "      <td>Touriga Nacional</td>\n",
       "      <td>0.495798</td>\n",
       "      <td>0.000000</td>\n",
       "    </tr>\n",
       "    <tr>\n",
       "      <th>80</th>\n",
       "      <td>Semillon-Sauvignon Blanc</td>\n",
       "      <td>0.055556</td>\n",
       "      <td>1.388889</td>\n",
       "    </tr>\n",
       "  </tbody>\n",
       "</table>\n",
       "</div>"
      ],
      "text/plain": [
       "                      variety  redness_score  whiteness_score\n",
       "119             Petit Manseng       0.035714         1.250000\n",
       "108                      Port       0.328147         0.089109\n",
       "95                     Shiraz       1.039075         0.030303\n",
       "47           Touriga Nacional       0.495798         0.000000\n",
       "80   Semillon-Sauvignon Blanc       0.055556         1.388889"
      ]
     },
     "execution_count": 17,
     "metadata": {},
     "output_type": "execute_result"
    }
   ],
   "source": [
    "color_classification.sample(5)"
   ]
  },
  {
   "cell_type": "code",
   "execution_count": 18,
   "metadata": {
    "collapsed": true
   },
   "outputs": [],
   "source": [
    "# a function that compares the redness and whiteness score for each variety,\n",
    "# and returns \"red\" if redness score is greater, \"white\" if whiteness score\n",
    "# is greater, or \"inconclusive\" otherwise\n",
    "def identify_color(redness,whiteness):\n",
    "    if redness > whiteness:\n",
    "        return \"red\"\n",
    "    if redness < whiteness:\n",
    "        return \"white\"\n",
    "    else:\n",
    "        return \"inconclusive\""
   ]
  },
  {
   "cell_type": "code",
   "execution_count": 19,
   "metadata": {
    "collapsed": true
   },
   "outputs": [],
   "source": [
    "import numpy as np"
   ]
  },
  {
   "cell_type": "code",
   "execution_count": 20,
   "metadata": {
    "collapsed": true
   },
   "outputs": [],
   "source": [
    "color_classification['color'] = np.vectorize(identify_color)(color_classification['redness_score'], color_classification['whiteness_score'])"
   ]
  },
  {
   "cell_type": "code",
   "execution_count": 21,
   "metadata": {
    "collapsed": false
   },
   "outputs": [
    {
     "data": {
      "text/html": [
       "<div>\n",
       "<table border=\"1\" class=\"dataframe\">\n",
       "  <thead>\n",
       "    <tr style=\"text-align: right;\">\n",
       "      <th></th>\n",
       "      <th>variety</th>\n",
       "      <th>redness_score</th>\n",
       "      <th>whiteness_score</th>\n",
       "      <th>color</th>\n",
       "    </tr>\n",
       "  </thead>\n",
       "  <tbody>\n",
       "    <tr>\n",
       "      <th>75</th>\n",
       "      <td>Vermentino</td>\n",
       "      <td>0.000000</td>\n",
       "      <td>1.289855</td>\n",
       "      <td>white</td>\n",
       "    </tr>\n",
       "    <tr>\n",
       "      <th>23</th>\n",
       "      <td>Nebbiolo</td>\n",
       "      <td>1.206871</td>\n",
       "      <td>0.183719</td>\n",
       "      <td>red</td>\n",
       "    </tr>\n",
       "    <tr>\n",
       "      <th>234</th>\n",
       "      <td>Pallagrello</td>\n",
       "      <td>0.166667</td>\n",
       "      <td>0.750000</td>\n",
       "      <td>white</td>\n",
       "    </tr>\n",
       "    <tr>\n",
       "      <th>220</th>\n",
       "      <td>Cabernet Merlot</td>\n",
       "      <td>0.703704</td>\n",
       "      <td>0.037037</td>\n",
       "      <td>red</td>\n",
       "    </tr>\n",
       "    <tr>\n",
       "      <th>145</th>\n",
       "      <td>Marsanne-Roussanne</td>\n",
       "      <td>0.000000</td>\n",
       "      <td>1.380952</td>\n",
       "      <td>white</td>\n",
       "    </tr>\n",
       "    <tr>\n",
       "      <th>116</th>\n",
       "      <td>Garnacha Blanca</td>\n",
       "      <td>0.000000</td>\n",
       "      <td>2.166667</td>\n",
       "      <td>white</td>\n",
       "    </tr>\n",
       "    <tr>\n",
       "      <th>144</th>\n",
       "      <td>Pedro Ximénez</td>\n",
       "      <td>0.000000</td>\n",
       "      <td>0.692308</td>\n",
       "      <td>white</td>\n",
       "    </tr>\n",
       "    <tr>\n",
       "      <th>108</th>\n",
       "      <td>Port</td>\n",
       "      <td>0.328147</td>\n",
       "      <td>0.089109</td>\n",
       "      <td>red</td>\n",
       "    </tr>\n",
       "    <tr>\n",
       "      <th>212</th>\n",
       "      <td>Pinotage</td>\n",
       "      <td>1.343284</td>\n",
       "      <td>0.029851</td>\n",
       "      <td>red</td>\n",
       "    </tr>\n",
       "  </tbody>\n",
       "</table>\n",
       "</div>"
      ],
      "text/plain": [
       "                variety  redness_score  whiteness_score  color\n",
       "75           Vermentino       0.000000         1.289855  white\n",
       "23             Nebbiolo       1.206871         0.183719    red\n",
       "234         Pallagrello       0.166667         0.750000  white\n",
       "220     Cabernet Merlot       0.703704         0.037037    red\n",
       "145  Marsanne-Roussanne       0.000000         1.380952  white\n",
       "116     Garnacha Blanca       0.000000         2.166667  white\n",
       "144       Pedro Ximénez       0.000000         0.692308  white\n",
       "108                Port       0.328147         0.089109    red\n",
       "212            Pinotage       1.343284         0.029851    red"
      ]
     },
     "execution_count": 21,
     "metadata": {},
     "output_type": "execute_result"
    }
   ],
   "source": [
    "color_classification.sample(9)"
   ]
  },
  {
   "cell_type": "code",
   "execution_count": 22,
   "metadata": {
    "collapsed": false
   },
   "outputs": [
    {
     "data": {
      "text/plain": [
       "red      129\n",
       "white    121\n",
       "Name: color, dtype: int64"
      ]
     },
     "execution_count": 22,
     "metadata": {},
     "output_type": "execute_result"
    }
   ],
   "source": [
    "color_classification.color.value_counts()"
   ]
  },
  {
   "cell_type": "code",
   "execution_count": 23,
   "metadata": {
    "collapsed": true
   },
   "outputs": [],
   "source": [
    "reds = color_classification[color_classification.color == \"red\"]"
   ]
  },
  {
   "cell_type": "code",
   "execution_count": 24,
   "metadata": {
    "collapsed": false
   },
   "outputs": [
    {
     "name": "stderr",
     "output_type": "stream",
     "text": [
      "/Users/luis/anaconda/lib/python2.7/site-packages/ipykernel/__main__.py:1: SettingWithCopyWarning: \n",
      "A value is trying to be set on a copy of a slice from a DataFrame.\n",
      "Try using .loc[row_indexer,col_indexer] = value instead\n",
      "\n",
      "See the caveats in the documentation: http://pandas.pydata.org/pandas-docs/stable/indexing.html#indexing-view-versus-copy\n",
      "  if __name__ == '__main__':\n"
     ]
    }
   ],
   "source": [
    "reds[\"color_p\"] = reds.redness_score-reds.whiteness_score"
   ]
  },
  {
   "cell_type": "code",
   "execution_count": 26,
   "metadata": {
    "collapsed": false
   },
   "outputs": [
    {
     "data": {
      "text/html": [
       "<div>\n",
       "<table border=\"1\" class=\"dataframe\">\n",
       "  <thead>\n",
       "    <tr style=\"text-align: right;\">\n",
       "      <th></th>\n",
       "      <th>variety</th>\n",
       "      <th>redness_score</th>\n",
       "      <th>whiteness_score</th>\n",
       "      <th>color</th>\n",
       "      <th>color_p</th>\n",
       "    </tr>\n",
       "  </thead>\n",
       "  <tbody>\n",
       "    <tr>\n",
       "      <th>248</th>\n",
       "      <td>Madeira Blend</td>\n",
       "      <td>0.166667</td>\n",
       "      <td>0.083333</td>\n",
       "      <td>red</td>\n",
       "      <td>0.083333</td>\n",
       "    </tr>\n",
       "    <tr>\n",
       "      <th>108</th>\n",
       "      <td>Port</td>\n",
       "      <td>0.328147</td>\n",
       "      <td>0.089109</td>\n",
       "      <td>red</td>\n",
       "      <td>0.239038</td>\n",
       "    </tr>\n",
       "    <tr>\n",
       "      <th>134</th>\n",
       "      <td>Rosado</td>\n",
       "      <td>0.809524</td>\n",
       "      <td>0.523810</td>\n",
       "      <td>red</td>\n",
       "      <td>0.285714</td>\n",
       "    </tr>\n",
       "    <tr>\n",
       "      <th>66</th>\n",
       "      <td>Tannat-Cabernet</td>\n",
       "      <td>0.333333</td>\n",
       "      <td>0.000000</td>\n",
       "      <td>red</td>\n",
       "      <td>0.333333</td>\n",
       "    </tr>\n",
       "    <tr>\n",
       "      <th>178</th>\n",
       "      <td>Touriga Nacional Blend</td>\n",
       "      <td>0.454545</td>\n",
       "      <td>0.000000</td>\n",
       "      <td>red</td>\n",
       "      <td>0.454545</td>\n",
       "    </tr>\n",
       "  </tbody>\n",
       "</table>\n",
       "</div>"
      ],
      "text/plain": [
       "                    variety  redness_score  whiteness_score color   color_p\n",
       "248           Madeira Blend       0.166667         0.083333   red  0.083333\n",
       "108                    Port       0.328147         0.089109   red  0.239038\n",
       "134                  Rosado       0.809524         0.523810   red  0.285714\n",
       "66          Tannat-Cabernet       0.333333         0.000000   red  0.333333\n",
       "178  Touriga Nacional Blend       0.454545         0.000000   red  0.454545"
      ]
     },
     "execution_count": 26,
     "metadata": {},
     "output_type": "execute_result"
    }
   ],
   "source": [
    "#checking dubious cases of red wines (lowest difference between redness and whiteness scores)\n",
    "reds.sort_values(by='color_p').head()"
   ]
  },
  {
   "cell_type": "code",
   "execution_count": 27,
   "metadata": {
    "collapsed": true
   },
   "outputs": [],
   "source": [
    "whites = color_classification[color_classification.color == \"white\"]"
   ]
  },
  {
   "cell_type": "code",
   "execution_count": 28,
   "metadata": {
    "collapsed": false
   },
   "outputs": [
    {
     "name": "stderr",
     "output_type": "stream",
     "text": [
      "/Users/luis/anaconda/lib/python2.7/site-packages/ipykernel/__main__.py:1: SettingWithCopyWarning: \n",
      "A value is trying to be set on a copy of a slice from a DataFrame.\n",
      "Try using .loc[row_indexer,col_indexer] = value instead\n",
      "\n",
      "See the caveats in the documentation: http://pandas.pydata.org/pandas-docs/stable/indexing.html#indexing-view-versus-copy\n",
      "  if __name__ == '__main__':\n"
     ]
    }
   ],
   "source": [
    "whites[\"color_p\"] = whites.whiteness_score-whites.redness_score"
   ]
  },
  {
   "cell_type": "code",
   "execution_count": 29,
   "metadata": {
    "collapsed": false
   },
   "outputs": [
    {
     "data": {
      "text/html": [
       "<div>\n",
       "<table border=\"1\" class=\"dataframe\">\n",
       "  <thead>\n",
       "    <tr style=\"text-align: right;\">\n",
       "      <th></th>\n",
       "      <th>variety</th>\n",
       "      <th>redness_score</th>\n",
       "      <th>whiteness_score</th>\n",
       "      <th>color</th>\n",
       "      <th>color_p</th>\n",
       "    </tr>\n",
       "  </thead>\n",
       "  <tbody>\n",
       "    <tr>\n",
       "      <th>238</th>\n",
       "      <td>Tokay</td>\n",
       "      <td>0.000000</td>\n",
       "      <td>0.250000</td>\n",
       "      <td>white</td>\n",
       "      <td>0.250000</td>\n",
       "    </tr>\n",
       "    <tr>\n",
       "      <th>100</th>\n",
       "      <td>Portuguese Sparkling</td>\n",
       "      <td>0.206897</td>\n",
       "      <td>0.482759</td>\n",
       "      <td>white</td>\n",
       "      <td>0.275862</td>\n",
       "    </tr>\n",
       "    <tr>\n",
       "      <th>97</th>\n",
       "      <td>Champagne Blend</td>\n",
       "      <td>0.254007</td>\n",
       "      <td>0.573366</td>\n",
       "      <td>white</td>\n",
       "      <td>0.319359</td>\n",
       "    </tr>\n",
       "    <tr>\n",
       "      <th>151</th>\n",
       "      <td>Roter Veltliner</td>\n",
       "      <td>0.300000</td>\n",
       "      <td>0.700000</td>\n",
       "      <td>white</td>\n",
       "      <td>0.400000</td>\n",
       "    </tr>\n",
       "    <tr>\n",
       "      <th>136</th>\n",
       "      <td>Muskat Ottonel</td>\n",
       "      <td>0.153846</td>\n",
       "      <td>0.615385</td>\n",
       "      <td>white</td>\n",
       "      <td>0.461538</td>\n",
       "    </tr>\n",
       "  </tbody>\n",
       "</table>\n",
       "</div>"
      ],
      "text/plain": [
       "                  variety  redness_score  whiteness_score  color   color_p\n",
       "238                 Tokay       0.000000         0.250000  white  0.250000\n",
       "100  Portuguese Sparkling       0.206897         0.482759  white  0.275862\n",
       "97        Champagne Blend       0.254007         0.573366  white  0.319359\n",
       "151       Roter Veltliner       0.300000         0.700000  white  0.400000\n",
       "136        Muskat Ottonel       0.153846         0.615385  white  0.461538"
      ]
     },
     "execution_count": 29,
     "metadata": {},
     "output_type": "execute_result"
    }
   ],
   "source": [
    "#checking the more dubious cases of white wines\n",
    "whites.sort_values(by='color_p').head()"
   ]
  },
  {
   "cell_type": "code",
   "execution_count": 30,
   "metadata": {
    "collapsed": true
   },
   "outputs": [],
   "source": [
    "# including color column in descriptions dataframe by merging\n",
    "wine_f = wine_f.merge(color_classification,how='left',on=\"variety\")"
   ]
  },
  {
   "cell_type": "code",
   "execution_count": 34,
   "metadata": {
    "collapsed": true
   },
   "outputs": [],
   "source": [
    "# redefining dataframes with grape color included\n",
    "wine_w = wine_f[wine_f.color==\"white\"]\n",
    "wine_r = wine_f[wine_f.color==\"red\"]"
   ]
  },
  {
   "cell_type": "code",
   "execution_count": 35,
   "metadata": {
    "collapsed": false
   },
   "outputs": [
    {
     "name": "stderr",
     "output_type": "stream",
     "text": [
      "/Users/luis/anaconda/lib/python2.7/site-packages/ipykernel/__main__.py:11: SettingWithCopyWarning: \n",
      "A value is trying to be set on a copy of a slice from a DataFrame.\n",
      "Try using .loc[row_indexer,col_indexer] = value instead\n",
      "\n",
      "See the caveats in the documentation: http://pandas.pydata.org/pandas-docs/stable/indexing.html#indexing-view-versus-copy\n",
      "/Users/luis/anaconda/lib/python2.7/site-packages/ipykernel/__main__.py:12: SettingWithCopyWarning: \n",
      "A value is trying to be set on a copy of a slice from a DataFrame.\n",
      "Try using .loc[row_indexer,col_indexer] = value instead\n",
      "\n",
      "See the caveats in the documentation: http://pandas.pydata.org/pandas-docs/stable/indexing.html#indexing-view-versus-copy\n"
     ]
    }
   ],
   "source": [
    "# we add a new column termed \"quality\", if points > 90 the wine is high quality, else we consider it low quality\n",
    "def rating_type(score):\n",
    "    if score > 92:\n",
    "        return 1\n",
    "    if score <= 84:\n",
    "        return 0\n",
    "    if score>84 and score<=92:\n",
    "        return 2\n",
    "\n",
    "wine_f['quality'] = wine_f.points.apply(rating_type)\n",
    "wine_r['quality'] = wine_r.points.apply(rating_type)\n",
    "wine_w['quality'] = wine_w.points.apply(rating_type)"
   ]
  },
  {
   "cell_type": "code",
   "execution_count": 36,
   "metadata": {
    "collapsed": false
   },
   "outputs": [],
   "source": [
    "# eliminating medium quality wines from dataframe\n",
    "wine_f = wine_f[wine_f.quality.isin([0,1])==True]\n",
    "wine_w = wine_w[wine_w.quality.isin([0,1])==True]\n",
    "wine_r = wine_r[wine_r.quality.isin([0,1])==True]"
   ]
  },
  {
   "cell_type": "code",
   "execution_count": 37,
   "metadata": {
    "collapsed": true
   },
   "outputs": [],
   "source": [
    "# removing punctuation from descriptions\n",
    "wine_f['description'] = wine_f['description'].apply(remove_punctuation)\n",
    "wine_r['description'] = wine_r['description'].apply(remove_punctuation)\n",
    "wine_w['description'] = wine_w['description'].apply(remove_punctuation)"
   ]
  },
  {
   "cell_type": "code",
   "execution_count": 39,
   "metadata": {
    "collapsed": true
   },
   "outputs": [],
   "source": [
    "# converting to lowercase letters\n",
    "wine_f['description'] = wine_f['description'].str.lower()\n",
    "wine_w['description'] = wine_w['description'].str.lower()\n",
    "wine_r['description'] = wine_r['description'].str.lower()"
   ]
  },
  {
   "cell_type": "code",
   "execution_count": null,
   "metadata": {
    "collapsed": true
   },
   "outputs": [],
   "source": []
  },
  {
   "cell_type": "code",
   "execution_count": null,
   "metadata": {
    "collapsed": true
   },
   "outputs": [],
   "source": []
  },
  {
   "cell_type": "code",
   "execution_count": null,
   "metadata": {
    "collapsed": true
   },
   "outputs": [],
   "source": []
  },
  {
   "cell_type": "code",
   "execution_count": null,
   "metadata": {
    "collapsed": true
   },
   "outputs": [],
   "source": []
  }
 ],
 "metadata": {
  "kernelspec": {
   "display_name": "Python 2",
   "language": "python",
   "name": "python2"
  },
  "language_info": {
   "codemirror_mode": {
    "name": "ipython",
    "version": 2
   },
   "file_extension": ".py",
   "mimetype": "text/x-python",
   "name": "python",
   "nbconvert_exporter": "python",
   "pygments_lexer": "ipython2",
   "version": "2.7.13"
  }
 },
 "nbformat": 4,
 "nbformat_minor": 2
}
